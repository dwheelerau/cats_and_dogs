{
 "cells": [
  {
   "cell_type": "markdown",
   "id": "under-sector",
   "metadata": {},
   "source": [
    "# training a model to recognise cats and dogs\n",
    "\n",
    "This is a basic notebook that outlines two approaches for training cats and dogs. I have had issues getting this to work in the past, so I have three goals.  \n",
    "\n",
    "1) Check that my hardware is working properly on the new system  \n",
    "2) See if there are approches that can be used to save GPU RAM  \n",
    "3) use this as a baseline for moving to the cloud - does performance improve with additional hardware  \n",
    "\n",
    "The first outline is a workflow that does not work on my computer due to RAM issues, this would be a good one to throw at the cloud. The second workflow, also based on the kaggle dataset, might work as it has some memory mitagation steps that could involve some interesting learning. The final workflow is based on test of a cloud solution, based around workflow (1).\n",
    "\n",
    "https://towardsdatascience.com/image-detection-from-scratch-in-keras-f314872006c9\n",
    "\n",
    "Note that at the end of each workflow I will restart the kernal to keep a clean stack. This NB is in a repo at "
   ]
  },
  {
   "cell_type": "markdown",
   "id": "welcome-greece",
   "metadata": {},
   "source": [
    "\n",
    "## Workflow 1\n",
    "Based on https://towardsdatascience.com/step-by-step-vgg16-implementation-in-keras-for-beginners-a833c686ae6c it usses the VGG16 architecture, which has 16 layers so it is paramater heavy, and will push my GPU. At the end I will do some tweaking to try and get it to run, namely reducing the number of axons and trying to adjust batch size, which in the past has allowed me to run these types of model."
   ]
  },
  {
   "cell_type": "code",
   "execution_count": null,
   "id": "unauthorized-weight",
   "metadata": {},
   "outputs": [],
   "source": []
  }
 ],
 "metadata": {
  "kernelspec": {
   "display_name": "Python 3",
   "language": "python",
   "name": "python3"
  },
  "language_info": {
   "codemirror_mode": {
    "name": "ipython",
    "version": 3
   },
   "file_extension": ".py",
   "mimetype": "text/x-python",
   "name": "python",
   "nbconvert_exporter": "python",
   "pygments_lexer": "ipython3",
   "version": "3.8.5"
  }
 },
 "nbformat": 4,
 "nbformat_minor": 5
}
